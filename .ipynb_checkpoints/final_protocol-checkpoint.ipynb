{
 "cells": [
  {
   "cell_type": "markdown",
   "metadata": {
    "id": "xhhJr7wKG-0X"
   },
   "source": [
    "Welcome to QCLI's experimental data collection Jupyter Notebook.\n",
    "\n",
    "Some code from this Jupyter Notebook is adapted from the uvicMUSE [GitHub](https://github.com/bardiabarabadi/uvicMUSE).\n",
    "The following Jupyter Notebook was designed to fit the experimental protocol defined in the [Protocol Instructions](https://docs.google.com/document/d/19vUV2iof93ZsLFlNQnM_sMVbU8yAPQtb6NgvHowk7kU/edit)."
   ]
  },
  {
   "cell_type": "code",
   "execution_count": null,
   "metadata": {
    "pycharm": {
     "is_executing": true,
     "name": "#%%\n"
    }
   },
   "outputs": [],
   "source": [
    "# Imports from protocol_functions\n",
    "from protocol_functions import user_info_input\n",
    "from protocol_functions import select_operating_system\n",
    "from protocol_functions import collect_sample\n",
    "\n",
    "# Importing sys for terminal related operations\n",
    "import sys"
   ]
  },
  {
   "cell_type": "markdown",
   "metadata": {
    "pycharm": {
     "name": "#%% md\n"
    }
   },
   "source": [
    "User inputs their name, sample action, and sample length for file naming.\n",
    "\n",
    "Naming Convention: <\"action name\">\\_<\"sample length\">\\_<\"user number\">"
   ]
  },
  {
   "cell_type": "code",
   "execution_count": null,
   "metadata": {
    "colab": {
     "base_uri": "https://localhost:8080/"
    },
    "id": "L35VqB2NHI03",
    "outputId": "cff31ccd-eeb7-409b-faee-c4e4d820fb72",
    "pycharm": {
     "is_executing": true
    }
   },
   "outputs": [],
   "source": [
    "person_id = user_info_input.input_name()\n",
    "action_name = user_info_input.input_action()\n",
    "sample_length = user_info_input.sample_length()\n",
    "file_name = action_name + \"_\" + str(sample_length) + \"_\" + str(person_id)\n"
   ]
  },
  {
   "cell_type": "markdown",
   "metadata": {
    "id": "dtYP7Sff771X"
   },
   "source": [
    "If necessary, installing the correct pylsl and uvicMuse packages depending on the specified operating system. Also installing pandas for data collection if required."
   ]
  },
  {
   "cell_type": "code",
   "execution_count": null,
   "metadata": {
    "colab": {
     "base_uri": "https://localhost:8080/"
    },
    "id": "3J-5HVw47vAr",
    "outputId": "c3f836a4-6e9c-4cc3-b6a2-744e87928ef5",
    "pycharm": {
     "is_executing": true
    }
   },
   "outputs": [],
   "source": [
    "def install_packages():\n",
    "    operating_system = select_operating_system.run() # Function call to select operating system\n",
    "    !{sys.executable} -m pip install pandas\n",
    "    if (operating_system == 1) or (operating_system == 3):\n",
    "        !{sys.executable} -m pip install pylsl pygatt # pylsl for Windows and macOS\n",
    "    else:\n",
    "        !{sys.executable} -m pip install pylsl==1.10.5 pygatt # pylsl for Linux\n",
    "    if (operating_system == 1) or (operating_system == 2):\n",
    "        !{sys.executable} -m pip install --force-reinstall uvicmuse==3.3.3 # uvicMuse for Windows & Linux (with dongle)\n",
    "    else:\n",
    "        !{sys.executable} -m pip install --force-reinstall uvicmuse==5.3.3 # uvicMuse for macOS\n",
    "\n",
    "has_packages = user_info_input.install_packages()\n",
    "if not has_packages:\n",
    "    install_packages()"
   ]
  },
  {
   "cell_type": "markdown",
   "metadata": {
    "id": "hNs2Cop-9mXm"
   },
   "source": [
    "Starting uvicMUSE in the terminal.\n",
    "\n",
    "_Muse Connection Steps (via uvicMUSE)_\n",
    "1. Ensure the Muse is charged and is in pairing mode.\n",
    "2. Click \"Search\" in uvicMuse to look for nearby Muses.\n",
    "3. After the Muse is found, select it from the list provided by uvicMuse and click \"Connect\""
   ]
  },
  {
   "cell_type": "code",
   "execution_count": 3,
   "metadata": {
    "colab": {
     "base_uri": "https://localhost:8080/"
    },
    "id": "T-Jdr7VK9X2P",
    "outputId": "21f2e08e-8be4-4f1c-9261-30e78ef4e2e6",
    "pycharm": {
     "is_executing": true
    }
   },
   "outputs": [
    {
     "name": "stdout",
     "output_type": "stream",
     "text": [
      "[INFO   ] [Logger      ] Record log in /Users/lsandler/.kivy/logs/kivy_22-03-08_0.txt\n",
      "[INFO   ] [Kivy        ] v2.0.0rc4, git-d74461b, 20201015\n",
      "[INFO   ] [Kivy        ] Installed at \"/Library/Frameworks/Python.framework/Versions/3.8/lib/python3.8/site-packages/kivy/__init__.py\"\n",
      "[INFO   ] [Python      ] v3.8.7 (v3.8.7:6503f05dd5, Dec 21 2020, 12:45:15) \n",
      "[Clang 6.0 (clang-600.0.57)]\n",
      "[INFO   ] [Python      ] Interpreter at \"/Library/Frameworks/Python.framework/Versions/3.8/bin/python3\"\n",
      "[INFO   ] [Factory     ] 186 symbols loaded\n",
      "[INFO   ] [Image       ] Providers: img_tex, img_imageio, img_dds, img_sdl2, img_pil (img_ffpyplayer ignored)\n",
      "[INFO   ] [Text        ] Provider: sdl2\n",
      "[INFO   ] [Window      ] Provider: sdl2\n",
      "[INFO   ] [GL          ] Using the \"OpenGL ES 2\" graphics system\n",
      "[INFO   ] [GL          ] Backend used <sdl2>\n",
      "[INFO   ] [GL          ] OpenGL version <b'2.1 INTEL-18.4.6'>\n",
      "[INFO   ] [GL          ] OpenGL vendor <b'Intel Inc.'>\n",
      "[INFO   ] [GL          ] OpenGL renderer <b'Intel(R) Iris(TM) Plus Graphics OpenGL Engine'>\n",
      "[INFO   ] [GL          ] OpenGL parsed version: 2, 1\n",
      "[INFO   ] [GL          ] Shading version <b'1.20'>\n",
      "[INFO   ] [GL          ] Texture max size <16384>\n",
      "[INFO   ] [GL          ] Texture max units <16>\n",
      "[INFO   ] [Window      ] auto add sdl2 input provider\n",
      "[INFO   ] [Window      ] virtual keyboard not allowed, single mode, not docked\n",
      "[INFO   ] [GL          ] NPOT texture support is available\n",
      "[INFO   ] [Base        ] Start application main loop\n",
      "[INFO   ] [Window      ] exiting mainloop and closing.\n"
     ]
    }
   ],
   "source": [
    "!uvicmuse"
   ]
  },
  {
   "cell_type": "markdown",
   "metadata": {
    "pycharm": {
     "name": "#%% md\n"
    }
   },
   "source": [
    "After the Muse is connected, a stream is opened with muselsl. Then, the data sample is collected and exporting to CSV with the *collect_sample.py* file."
   ]
  },
  {
   "cell_type": "code",
   "execution_count": null,
   "metadata": {
    "id": "7RjM2y_lHXZF",
    "pycharm": {
     "is_executing": true,
     "name": "#%%\n"
    }
   },
   "outputs": [],
   "source": [
    "!muselsl # starting the stream in the terminal.\n",
    "\n",
    "collect_sample.run(sample_length, action_name, file_name)"
   ]
  }
 ],
 "metadata": {
  "colab": {
   "name": "Final Protocol.ipynb",
   "provenance": []
  },
  "kernelspec": {
   "display_name": "Python 3 (ipykernel)",
   "language": "python",
   "name": "python3"
  },
  "language_info": {
   "codemirror_mode": {
    "name": "ipython",
    "version": 3
   },
   "file_extension": ".py",
   "mimetype": "text/x-python",
   "name": "python",
   "nbconvert_exporter": "python",
   "pygments_lexer": "ipython3",
   "version": "3.8.7"
  }
 },
 "nbformat": 4,
 "nbformat_minor": 1
}
